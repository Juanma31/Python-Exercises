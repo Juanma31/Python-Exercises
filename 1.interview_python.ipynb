{
 "cells": [
  {
   "cell_type": "markdown",
   "metadata": {},
   "source": [
    "Here's your coding interview problem for today.\n",
    "\n",
    "This problem was asked by Facebook.\n",
    "\n",
    "Given a string of round, curly, and square open and closing brackets, return whether the brackets are balanced (well-formed).\n",
    "\n",
    "For example, given the string \"([])[]({})\", you should return true.\n",
    "\n",
    "{}\n",
    "\n",
    "Given the string \"([)]\" or \"((()\", you should return false.\n",
    "\n",
    "\"()[]{}\", True"
   ]
  },
  {
   "cell_type": "code",
   "execution_count": 203,
   "metadata": {},
   "outputs": [
    {
     "name": "stdout",
     "output_type": "stream",
     "text": [
      "Write brackets: (){}\n"
     ]
    }
   ],
   "source": [
    "# ([{)}] False\n",
    "string = input(\"Write brackets: \")"
   ]
  },
  {
   "cell_type": "code",
   "execution_count": 204,
   "metadata": {},
   "outputs": [
    {
     "name": "stdout",
     "output_type": "stream",
     "text": [
      "numero de n_round = 1 ultimo abierto =  (\n",
      "numero de n_round = 0\n",
      "numero de curlies = 1 ultimo abierto =  {\n",
      "numero de curlies = 0\n",
      "True\n"
     ]
    }
   ],
   "source": [
    "Answer=False\n",
    "n_curly=0\n",
    "n_square=0\n",
    "n_round=0\n",
    "last_open=[]\n",
    "ulti=False\n",
    "sumatorio=0\n",
    "\n",
    "for car in string:\n",
    "    if(car=='{'):\n",
    "        n_curly+=1\n",
    "        last_open.append(car)\n",
    "        print(\"numero de curlies =\",n_curly,\"ultimo abierto = \",last_open[-1])\n",
    "        sumatorio+=1\n",
    "    if(car=='['):\n",
    "        n_square+=1\n",
    "        last_open.append(car)\n",
    "        print(\"numero de squares =\",n_square,\"ultimo abierto = \",last_open[-1])\n",
    "        sumatorio+=1\n",
    "    if(car=='('):\n",
    "        n_round+=1\n",
    "        last_open.append(car)\n",
    "        print(\"numero de n_round =\",n_round,\"ultimo abierto = \",last_open[-1])\n",
    "        sumatorio+=1\n",
    "    if(car=='}'):\n",
    "        sumatorio+=1\n",
    "        n_curly-=1\n",
    "        print(\"numero de curlies =\",n_curly)\n",
    "        if(n_curly<0): \n",
    "            Answer=False\n",
    "            print(\"Tuso, menos curly\")\n",
    "            break\n",
    "        if(last_open[-1]!='{'):\n",
    "            print(\"esta mal c\")\n",
    "            break\n",
    "        if(len(last_open)==0): #es el ultimo\n",
    "            last_open=\"gilii\"\n",
    "            ulti=True\n",
    "    if(car==']'):\n",
    "        sumatorio+=1\n",
    "        n_square-=1\n",
    "        print(\"numero de squares =\",n_square)\n",
    "        if(n_square<0):  \n",
    "            Answer=False\n",
    "            print(\"Tuso, menos squares\")\n",
    "            break\n",
    "        if(last_open[-1]!='['):\n",
    "            print(\"esta mal s\")\n",
    "            break\n",
    "        if(len(last_open)==0): #es el ultimo\n",
    "            last_open=\"gilii\"\n",
    "            ulti=True\n",
    "    if(car==')'):\n",
    "        sumatorio+=1\n",
    "        n_round-=1\n",
    "        print(\"numero de n_round =\",n_round)\n",
    "        if(n_round<0): \n",
    "            Answer=False\n",
    "            print(\"Tuso, menos round\")\n",
    "            break\n",
    "        if(last_open[-1]!='('):\n",
    "            print(\"esta mal r\")\n",
    "            break\n",
    "        if(len(last_open)==0): #es el ultimo\n",
    "            last_open=\"gilii\"\n",
    "            ulti=True\n",
    "        \n",
    "    if(car=='}'and last_open[-1]!='{' and n_curly!=0 and ulti==False):\n",
    "        Answer=False\n",
    "        print(\"Tuso, ultimo curly\")\n",
    "        break\n",
    "    if(car==']'and last_open[-1]!='[' and n_square!=0 and ulti==False):\n",
    "        Answer=False\n",
    "        print(\"Tuso, ultimo square\")\n",
    "        break\n",
    "    if(car==')'and last_open[-1]!='(' and n_round!=0 and ulti==False):\n",
    "        Answer=False\n",
    "        print(\"Tuso, ultimo round\")\n",
    "        break\n",
    "    if(n_curly==0 and n_square==0 and n_round==0 and len(string)==sumatorio):\n",
    "        Answer=True\n",
    "    if(car=='}'):\n",
    "        last_open.pop(-1)\n",
    "    if(car==']'):\n",
    "        last_open.pop(-1)\n",
    "    if(car==')'):\n",
    "        last_open.pop(-1)\n",
    "print(Answer)"
   ]
  },
  {
   "cell_type": "code",
   "execution_count": null,
   "metadata": {},
   "outputs": [],
   "source": []
  }
 ],
 "metadata": {
  "kernelspec": {
   "display_name": "Python 3",
   "language": "python",
   "name": "python3"
  },
  "language_info": {
   "codemirror_mode": {
    "name": "ipython",
    "version": 3
   },
   "file_extension": ".py",
   "mimetype": "text/x-python",
   "name": "python",
   "nbconvert_exporter": "python",
   "pygments_lexer": "ipython3",
   "version": "3.8.3"
  }
 },
 "nbformat": 4,
 "nbformat_minor": 2
}
