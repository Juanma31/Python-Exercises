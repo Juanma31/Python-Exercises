{
 "cells": [
  {
   "cell_type": "code",
   "execution_count": 32,
   "metadata": {},
   "outputs": [
    {
     "name": "stdout",
     "output_type": "stream",
     "text": [
      "Give me your name:Juanma\n",
      "How old are you? 28\n",
      "what is the current year? 2021\n",
      "Hello Juanma, your age is 28 years old and you will turn 100 years old in 2093 \n"
     ]
    }
   ],
   "source": [
    "name = input(\"Give me your name:\")\n",
    "#print(\"your name is\",name)\n",
    "#print(\"your name is \"+name)\n",
    "\n",
    "age = int(input(\"How old are you? \"))\n",
    "#print(\"your age is\",age,\"years old\")\n",
    "\n",
    "current_year = int(input((\"what is the current year? \")))\n",
    "in_100 = current_year+(100-age)\n",
    "message = \"Hello \"+name+\", your age is \"+str(age)+\" years old and you will turn 100 years old in \"+str(in_100)+\" \"\n",
    "print(message)"
   ]
  },
  {
   "cell_type": "code",
   "execution_count": 33,
   "metadata": {},
   "outputs": [
    {
     "name": "stdout",
     "output_type": "stream",
     "text": [
      "give me a number to repeat the previous message: 3\n",
      "Hello Juanma, your age is 28 years old and you will turn 100 years old in 2093 Hello Juanma, your age is 28 years old and you will turn 100 years old in 2093 Hello Juanma, your age is 28 years old and you will turn 100 years old in 2093 \n"
     ]
    }
   ],
   "source": [
    "\"\"\"Extra 1. Add on to the previous program by asking the user for another number and printing out \n",
    "that many copies of the previous message.\"\"\"\n",
    "\n",
    "repeat=int(input(\"give me a number to repeat the previous message: \"))\n",
    "print(repeat*message)"
   ]
  },
  {
   "cell_type": "code",
   "execution_count": 34,
   "metadata": {},
   "outputs": [
    {
     "name": "stdout",
     "output_type": "stream",
     "text": [
      "Hello Juanma, your age is 28 years old and you will turn 100 years old in 2093 \n",
      "Hello Juanma, your age is 28 years old and you will turn 100 years old in 2093 \n",
      "Hello Juanma, your age is 28 years old and you will turn 100 years old in 2093 \n",
      "\n"
     ]
    }
   ],
   "source": [
    "\"\"\"Extra 2. Print out that many copies of the previous message on separate lines. \n",
    "(Hint: the string \"\\n is the same as pressing the ENTER button)\"\"\"\n",
    "\n",
    "print(repeat*(message+\"\\n\"))"
   ]
  },
  {
   "cell_type": "code",
   "execution_count": null,
   "metadata": {},
   "outputs": [],
   "source": []
  }
 ],
 "metadata": {
  "kernelspec": {
   "display_name": "Python 3",
   "language": "python",
   "name": "python3"
  },
  "language_info": {
   "codemirror_mode": {
    "name": "ipython",
    "version": 3
   },
   "file_extension": ".py",
   "mimetype": "text/x-python",
   "name": "python",
   "nbconvert_exporter": "python",
   "pygments_lexer": "ipython3",
   "version": "3.8.3"
  }
 },
 "nbformat": 4,
 "nbformat_minor": 4
}
